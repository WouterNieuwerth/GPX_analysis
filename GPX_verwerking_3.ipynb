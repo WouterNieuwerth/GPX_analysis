{
 "cells": [
  {
   "cell_type": "markdown",
   "metadata": {},
   "source": [
    "https://towardsdatascience.com/how-tracking-apps-analyse-your-gps-data-a-hands-on-tutorial-in-python-756d4db6715d\n",
    "https://towardsdatascience.com/how-to-make-your-pandas-loop-71-803-times-faster-805030df4f06\n",
    "https://realpython.com/fast-flexible-pandas/"
   ]
  },
  {
   "cell_type": "code",
   "execution_count": 1,
   "metadata": {},
   "outputs": [
    {
     "name": "stdout",
     "output_type": "stream",
     "text": [
      "Requirement already satisfied: haversine in /Users/wouternieuwerth/Applications/Anaconda/anaconda3/lib/python3.7/site-packages (2.2.0)\n"
     ]
    }
   ],
   "source": [
    "!pip install haversine"
   ]
  },
  {
   "cell_type": "code",
   "execution_count": 2,
   "metadata": {},
   "outputs": [],
   "source": [
    "import gpxpy\n",
    "import matplotlib.pyplot as plt\n",
    "import datetime\n",
    "from geopy import distance\n",
    "from math import sqrt, floor\n",
    "import numpy as np\n",
    "import pandas as pd\n",
    "import haversine\n",
    "import os\n",
    "import re\n",
    "from os import listdir\n",
    "from os.path import isfile, join\n",
    "idx = pd.IndexSlice"
   ]
  },
  {
   "cell_type": "code",
   "execution_count": 3,
   "metadata": {},
   "outputs": [],
   "source": [
    "df_input = pd.read_csv('gpx_analysis.csv', header=0, index_col=[0,1])\n",
    "\n",
    "df_input['date'] = pd.to_datetime(df_input['date'], utc=True)\n",
    "df_input['date'] = df_input['date'].dt.tz_localize(tz=None)"
   ]
  },
  {
   "cell_type": "code",
   "execution_count": 4,
   "metadata": {},
   "outputs": [
    {
     "name": "stdout",
     "output_type": "stream",
     "text": [
      "New files:\n",
      "['20200212_191853.gpx', '20200208_102811.gpx']\n"
     ]
    }
   ],
   "source": [
    "path = os.path.join(os.path.abspath(''), 'tracks')\n",
    "allfiles = [f for f in listdir(path) if isfile(join(path, f))]\n",
    "\n",
    "# Lijst met unieke files:\n",
    "set_from_df = set([x[0] for x in df_input.index.values])\n",
    "set_from_allfiles = set(allfiles)\n",
    "\n",
    "newfiles = set_from_allfiles.difference(set_from_df)\n",
    "newfiles = list(newfiles)\n",
    "\n",
    "# Probleemgevallen verwijderen:\n",
    "# while '20120704_192600.gpx' in allfiles: allfiles.remove('20120704_192600.gpx')\n",
    "while '20170429_123929.gpx' in newfiles: newfiles.remove('20170429_123929.gpx')\n",
    "while '.DS_Store' in newfiles: newfiles.remove('.DS_Store')\n",
    "\n",
    "print(\"New files:\")\n",
    "print(newfiles)"
   ]
  },
  {
   "cell_type": "code",
   "execution_count": 5,
   "metadata": {},
   "outputs": [
    {
     "name": "stdout",
     "output_type": "stream",
     "text": [
      "New files found!\n",
      "File: 20200212_191853.gpx\n"
     ]
    },
    {
     "name": "stderr",
     "output_type": "stream",
     "text": [
      "/Users/wouternieuwerth/Applications/Anaconda/anaconda3/lib/python3.7/site-packages/pandas/core/indexing.py:205: SettingWithCopyWarning: \n",
      "A value is trying to be set on a copy of a slice from a DataFrame\n",
      "\n",
      "See the caveats in the documentation: http://pandas.pydata.org/pandas-docs/stable/user_guide/indexing.html#returning-a-view-versus-a-copy\n",
      "  self._setitem_with_indexer(indexer, value)\n",
      "/Users/wouternieuwerth/Applications/Anaconda/anaconda3/lib/python3.7/site-packages/numpy/core/numeric.py:1177: FutureWarning: Converting timezone-aware DatetimeArray to timezone-naive ndarray with 'datetime64[ns]' dtype. In the future, this will return an ndarray with 'object' dtype where each element is a 'pandas.Timestamp' with the correct 'tz'.\n",
      "\tTo accept the future behavior, pass 'dtype=object'.\n",
      "\tTo keep the old behavior, pass 'dtype=\"datetime64[ns]\"'.\n",
      "  a = asanyarray(a)\n"
     ]
    },
    {
     "name": "stdout",
     "output_type": "stream",
     "text": [
      " - Section: 1000\n",
      " - Section: 1609.34\n",
      " - Section: 3000\n",
      " - Section: 5000\n",
      "File: 20200208_102811.gpx\n",
      " - Section: 1000\n",
      " - Section: 1609.34\n",
      " - Section: 3000\n",
      " - Section: 5000\n",
      " - Section: 8046.7\n",
      " - Section: 10000\n",
      "Finished!\n"
     ]
    }
   ],
   "source": [
    "if not newfiles:\n",
    "    print(\"No new files found.\")\n",
    "    \n",
    "    df_final = df_input.copy()\n",
    "    \n",
    "# if lists are not equal    \n",
    "else:\n",
    "    print(\"New files found!\")\n",
    "    \n",
    "    sections = [1000,(1000*1.60934),3000,5000,(5000*1.60934),10000,15000,(10000*1.60934),20000,21097.5,25000,30000,40000,42195]\n",
    "\n",
    "    df_final = pd.DataFrame(columns=['time', 'distance', 'minutes_per_kilometer'])\n",
    "\n",
    "    for file in newfiles:\n",
    "\n",
    "        print('File:', file)\n",
    "\n",
    "        path = os.path.join(os.path.abspath(''), 'tracks', file)\n",
    "\n",
    "        gpx_file = open(path, 'r')\n",
    "        gpx = gpxpy.parse(gpx_file)\n",
    "\n",
    "        df = pd.DataFrame(columns=['lon', 'lat', 'alt', 'time'])\n",
    "\n",
    "        # -----------------------------------------------------\n",
    "        # Inlezen van alle files geeft problemen, omdat de bestanden verschillen van elkaar.\n",
    "\n",
    "        if re.search('^Running', file) is None: # Als de bestandsnaam niet begint met 'Running', dan is het een Endomondo file\n",
    "\n",
    "            if len(gpx.tracks[0].segments) == 1: # Soms komt het voor dat een bestand maar uit 1 segment bestaat, ook bij Endomondo.\n",
    "\n",
    "                segment = gpx.tracks[0].segments[0]\n",
    "\n",
    "                data = segment.points\n",
    "\n",
    "                for point in data:\n",
    "                    df = df.append({'lon': point.longitude, 'lat' : point.latitude, 'alt' : point.elevation, 'time' : point.time}, ignore_index=True)\n",
    "\n",
    "            else: \n",
    "                for segment in gpx.tracks[0].segments[:-1]: # alle segments, behalve de laatste.\n",
    "\n",
    "                    data = segment.points\n",
    "\n",
    "                    for point in data:\n",
    "                        df = df.append({'lon': point.longitude, 'lat' : point.latitude, 'alt' : point.elevation, 'time' : point.time}, ignore_index=True)\n",
    "\n",
    "        else: # Als de bestandsnaam wel met 'Running' begint, dan is het een oud bestand. Daarvan moeten we alle segments inlezen.\n",
    "\n",
    "            for segment in gpx.tracks[0].segments: # all segments\n",
    "\n",
    "                data = segment.points\n",
    "\n",
    "                for point in data:\n",
    "                    df = df.append({'lon': point.longitude, 'lat' : point.latitude, 'alt' : point.elevation, 'time' : point.time}, ignore_index=True)\n",
    "\n",
    "        # -----------------------------------------------------\n",
    "\n",
    "        df = df.sort_values(by=['time'])\n",
    "        df = df.reset_index()\n",
    "\n",
    "        df = df.fillna(method='ffill')\n",
    "        df = df.fillna(method='bfill')\n",
    "\n",
    "        # Create a column with values that are 'shifted' one forwards, so we can create calculations for differences.\n",
    "        df['lon-start'] = df['lon']\n",
    "        df['lon-start'].iloc[-1] = np.nan\n",
    "        df['lon-start'] = np.roll(df['lon-start'], 1)\n",
    "        df['lat-start'] = df['lat']\n",
    "        df['lat-start'].iloc[-1] = np.nan\n",
    "        df['lat-start'] = np.roll(df['lat-start'], 1)\n",
    "        df['alt-start'] = df['alt']\n",
    "        df['alt-start'].iloc[-1] = np.nan\n",
    "        df['alt-start'] = np.roll(df['alt-start'], 1)\n",
    "        df['time-start'] = df['time']\n",
    "        df['time-start'].iloc[-1] = np.nan\n",
    "        df['time-start'] = np.roll(df['time-start'], 1)\n",
    "        df = df.fillna(method='bfill')\n",
    "\n",
    "        df['time'] = pd.to_datetime(df['time'], utc=True)\n",
    "        df['time'] = df['time'].dt.tz_localize(tz=None)\n",
    "        df['time-start'] = pd.to_datetime(df['time-start'], utc=True)\n",
    "        df['time-start'] = df['time-start'].dt.tz_localize(tz=None)\n",
    "\n",
    "        #Calculate distances and time deltas\n",
    "        df['distance_dis_2d'] = df.apply(lambda x: distance.distance((x['lat-start'], x['lon-start']), (x['lat'], x['lon'])).m, axis = 1)\n",
    "        df['alt_dif'] = df.apply(lambda x: x['alt-start'] - x['alt'], axis=1)\n",
    "        df['distance_dis_3d'] = df.apply(lambda x: sqrt(x['distance_dis_2d']**2 + (x['alt_dif'])**2), axis=1)\n",
    "        df['time_delta'] = df.apply(lambda x: (x['time'] - x['time-start']).total_seconds(), axis=1)\n",
    "\n",
    "        df_selected = df.loc[:, ['distance_dis_3d','time_delta']]\n",
    "\n",
    "        df_selected['distance_cumsum'] = df_selected['distance_dis_3d'].cumsum()\n",
    "        df_selected['time_cumsum'] = df_selected['time_delta'].cumsum()\n",
    "\n",
    "        # Here we loop over sections\n",
    "        for section in sections:\n",
    "\n",
    "            if df['distance_dis_3d'].sum() < section: # If the total distance of the workout is smaller then the section we're looking for we can skip this iteration.\n",
    "                continue\n",
    "\n",
    "            print(' - Section:', section)\n",
    "            df_output = pd.DataFrame(columns=['date', 'section', 'filename', 'time', 'distance', 'minutes_per_kilometer', 'total_distance', 'total_time'])\n",
    "\n",
    "            for i in range(len(df_selected.index)):\n",
    "\n",
    "                df_section = df_selected[(df_selected['distance_cumsum'] - df_selected['distance_cumsum'].iat[i]) >= section]\n",
    "                if(len(df_section.index) != 0):\n",
    "                    time = df_section['time_cumsum'].iat[0] - df_selected['time_cumsum'].iat[i]\n",
    "                    distance_i = df_section['distance_cumsum'].iat[0] - df_selected['distance_cumsum'].iat[i]\n",
    "                    minutes_per_kilometer = (time/60)/(distance_i/1000)\n",
    "                    df_output = df_output.append({'date': df['time'].min(), 'section': section, 'filename': file, 'time': time, 'distance': distance_i, 'minutes_per_kilometer': minutes_per_kilometer, 'total_distance': df['distance_dis_3d'].sum(), 'total_time': df['time_delta'].sum()}, ignore_index=True)\n",
    "\n",
    "            if df_output.empty == True:\n",
    "                print('Error?!')\n",
    "            else:\n",
    "                s_best = df_output.loc[df_output['minutes_per_kilometer'].idxmin()]\n",
    "                df_final = df_final.append(s_best)\n",
    "\n",
    "    df_final['start_index_best_section'] = df_final.index\n",
    "    df_final = df_final.set_index(['filename','section'])\n",
    "\n",
    "    df_final = df_final.append(df_input)\n",
    "\n",
    "    df_final.to_csv('gpx_analysis.csv')\n",
    "\n",
    "print('Finished!')"
   ]
  },
  {
   "cell_type": "markdown",
   "metadata": {},
   "source": [
    "Total distance in kilometers:"
   ]
  },
  {
   "cell_type": "code",
   "execution_count": 6,
   "metadata": {},
   "outputs": [
    {
     "data": {
      "text/plain": [
       "2458.431532401525"
      ]
     },
     "execution_count": 6,
     "metadata": {},
     "output_type": "execute_result"
    }
   ],
   "source": [
    "df_final.loc[idx[:,1000],'total_distance'].sum() / 1000"
   ]
  },
  {
   "cell_type": "code",
   "execution_count": null,
   "metadata": {},
   "outputs": [],
   "source": []
  }
 ],
 "metadata": {
  "kernelspec": {
   "display_name": "Python 3",
   "language": "python",
   "name": "python3"
  },
  "language_info": {
   "codemirror_mode": {
    "name": "ipython",
    "version": 3
   },
   "file_extension": ".py",
   "mimetype": "text/x-python",
   "name": "python",
   "nbconvert_exporter": "python",
   "pygments_lexer": "ipython3",
   "version": "3.7.4"
  }
 },
 "nbformat": 4,
 "nbformat_minor": 4
}
