{
 "cells": [
  {
   "cell_type": "markdown",
   "metadata": {},
   "source": [
    "# Maak een video van alle GPX files in een map\n",
    "\n",
    "Let op, dit duurt met meerdere GPX-bestanden al snel heel erg lang om uit te voeren!"
   ]
  },
  {
   "cell_type": "code",
   "execution_count": null,
   "metadata": {},
   "outputs": [],
   "source": [
    "# de directory met GPX bestanden:\n",
    "directory = 'tracks/'\n",
    "\n",
    "# de naam van de video:\n",
    "videoName = 'video-tot-2018-11-18' #.mp4"
   ]
  },
  {
   "cell_type": "code",
   "execution_count": null,
   "metadata": {},
   "outputs": [],
   "source": [
    "import trackanimation\n",
    "from trackanimation.animation import AnimationTrack\n",
    "\n",
    "input_directory = directory\n",
    "hardlopen_trk = trackanimation.read_track(input_directory)\n",
    "\n",
    "fig = AnimationTrack(df_points=hardlopen_trk, dpi=300, bg_map=True, map_transparency=0.5)\n",
    "fig.make_video(output_file=videoName, framerate=120, linewidth=1.0)"
   ]
  },
  {
   "cell_type": "markdown",
   "metadata": {},
   "source": [
    "# Maak een HTML pagina van alle GPX files in een map"
   ]
  },
  {
   "cell_type": "code",
   "execution_count": 1,
   "metadata": {},
   "outputs": [],
   "source": [
    "# de directory met GPX bestanden:\n",
    "directory = 'tracks/'\n",
    "\n",
    "# de naam van de video:\n",
    "htmlName = 'map-tot-2020-02-03' #.html"
   ]
  },
  {
   "cell_type": "code",
   "execution_count": 2,
   "metadata": {},
   "outputs": [
    {
     "name": "stderr",
     "output_type": "stream",
     "text": [
      "Reading files: 100%|██████████| 270/270 [00:41<00:00,  6.53it/s]\n",
      "Groups: 100%|██████████| 269/269 [00:06<00:00, 38.52it/s]\n"
     ]
    }
   ],
   "source": [
    "import trackanimation\n",
    "from trackanimation.animation import AnimationTrack\n",
    "\n",
    "input_directory = directory\n",
    "hardlopen_trk = trackanimation.read_track(input_directory)\n",
    "\n",
    "fig = AnimationTrack(df_points=hardlopen_trk, dpi=300, bg_map=False, map_transparency=0.5)\n",
    "fig.make_map(output_file=htmlName)"
   ]
  },
  {
   "cell_type": "code",
   "execution_count": null,
   "metadata": {},
   "outputs": [],
   "source": []
  },
  {
   "cell_type": "code",
   "execution_count": null,
   "metadata": {},
   "outputs": [],
   "source": []
  }
 ],
 "metadata": {
  "kernelspec": {
   "display_name": "Python 3",
   "language": "python",
   "name": "python3"
  },
  "language_info": {
   "codemirror_mode": {
    "name": "ipython",
    "version": 3
   },
   "file_extension": ".py",
   "mimetype": "text/x-python",
   "name": "python",
   "nbconvert_exporter": "python",
   "pygments_lexer": "ipython3",
   "version": "3.7.4"
  }
 },
 "nbformat": 4,
 "nbformat_minor": 4
}
